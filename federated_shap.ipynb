{
 "cells": [
  {
   "cell_type": "markdown",
   "metadata": {},
   "source": [
    "# Federated Shap\n",
    "Inspired by SHAP: https://github.com/slundberg/shap"
   ]
  },
  {
   "cell_type": "markdown",
   "metadata": {},
   "source": [
    "Kernel SHAP is a method that uses a special weighted linear regression to compute the importance of each feature. The computed importance values are Shapley values from game theory and also coefficents from a local linear regression."
   ]
  },
  {
   "cell_type": "code",
   "execution_count": 7,
   "metadata": {},
   "outputs": [],
   "source": [
    "import scipy.special \n",
    "import numpy as np\n",
    "import itertools\n",
    "\n",
    "def powerset(iterable):\n",
    "    s = list(iterable)\n",
    "    return itertools.chain.from_iterable(itertools.combinations(s, r) for r in range(len(s)+1))\n",
    "\n",
    "def shapley_kernel(M,s):\n",
    "    if s == 0 or s == M:\n",
    "        return 10000\n",
    "    return (M-1)/(scipy.special.binom(M,s)*s*(M-s))\n",
    "\n",
    "#Function that imitates the model, takes in instance features and outputs predictons\n",
    "def f(X):\n",
    "    np.random.seed(0)\n",
    "    beta = np.random.rand(X.shape[-1])\n",
    "    return np.dot(X,beta) + 10\n",
    "\n",
    "#Original shap function\n",
    "'''\n",
    "    f: model\n",
    "    x: one instance with features\n",
    "    reference: To determine the impact\n",
    "        of a feature, that feature is set to \"missing\" and the change in the model output\n",
    "        is observed. Since most models aren't designed to handle arbitrary missing data at test\n",
    "        time, we simulate \"missing\" by replacing the feature with the values it takes in the\n",
    "        background dataset. So if the background dataset is a simple sample of all zeros, then\n",
    "        we would approximate a feature being missing by setting it to zero. For small problems\n",
    "        this background dataset can be the whole training set, but for larger problems consider\n",
    "        using a single reference value or using the kmeans function to summarize the dataset.\n",
    "    M: number of features\n",
    "'''\n",
    "def kernel_shap(f, x, reference, M):\n",
    "\n",
    "    X = np.zeros((2**M,M+1))\n",
    "    X[:,-1] = 1\n",
    "    weights = np.zeros(2**M)\n",
    "    V = np.zeros((2**M,M))\n",
    "    for i in range(2**M):\n",
    "        V[i,:] = reference\n",
    "\n",
    "    ws = {}\n",
    "    for i,s in enumerate(powerset(range(M))):\n",
    "        s = list(s)\n",
    "        V[i,s] = x[s]\n",
    "        X[i,s] = 1\n",
    "        ws[len(s)] = ws.get(len(s), 0) + shapley_kernel(M,len(s))\n",
    "        weights[i] = shapley_kernel(M,len(s))\n",
    "    y = f(V)\n",
    "    tmp = np.linalg.inv(np.dot(np.dot(X.T, np.diag(weights)), X))\n",
    "    return np.dot(tmp, np.dot(np.dot(X.T, np.diag(weights)), y))\n",
    "\n",
    "#Federated Shap Function\n",
    "'''\n",
    "    f: model\n",
    "    x: one instance with features\n",
    "    reference: To determine the impact\n",
    "        of a feature, that feature is set to \"missing\" and the change in the model output\n",
    "        is observed. Since most models aren't designed to handle arbitrary missing data at test\n",
    "        time, we simulate \"missing\" by replacing the feature with the values it takes in the\n",
    "        background dataset. So if the background dataset is a simple sample of all zeros, then\n",
    "        we would approximate a feature being missing by setting it to zero. For small problems\n",
    "        this background dataset can be the whole training set, but for larger problems consider\n",
    "        using a single reference value or using the kmeans function to summarize the dataset.\n",
    "    M: number of features\n",
    "    fed_pos: feature position in x after which the features are hidden and aggregated\n",
    "'''\n",
    "def kernel_shap_federated(f, x, reference, M, fed_pos):\n",
    "    M_real = M\n",
    "    M = fed_pos + 2 #with one extra feature as the aggregated hidden features\n",
    "    reference_real = reference\n",
    "    reference = reference_real[:fed_pos+2] #with one extra feature as the aggregated hidden features\n",
    "    reference[-1] = 0 #hard to calculated reference for aggregated features, thus set it to be 0\n",
    "    X = np.zeros((2**M,M+1))\n",
    "    X[:,-1] = 1\n",
    "    weights = np.zeros(2**M)\n",
    "    V = np.zeros((2**M_real,M_real))\n",
    "    for i in range(2**M_real):\n",
    "        V[i,:] = reference\n",
    "\n",
    "    ws = {}\n",
    "    for i,s in enumerate(powerset(range(M))):\n",
    "        s = list(s)\n",
    "        V[i,s] = x[s]\n",
    "        X[i,s] = 1\n",
    "        ws[len(s)] = ws.get(len(s), 0) + shapley_kernel(M,len(s))\n",
    "        weights[i] = shapley_kernel(M,len(s))\n",
    "    y = f(V)\n",
    "    tmp = np.linalg.inv(np.dot(np.dot(X.T, np.diag(weights)), X))\n",
    "    return np.dot(tmp, np.dot(np.dot(X.T, np.diag(weights)), y))\n",
    "\n",
    "\n"
   ]
  },
  {
   "cell_type": "code",
   "execution_count": 8,
   "metadata": {},
   "outputs": [
    {
     "name": "stdout",
     "output_type": "stream",
     "text": [
      "  reference = [0. 0. 0. 0. 0. 0. 0. 0. 0. 0.]\n",
      "          x = [ 1.62434536 -0.61175641 -0.52817175 -1.07296862  0.86540763 -2.3015387\n",
      "  1.74481176 -0.7612069   0.3190391  -0.24937038]\n",
      "shap_values = [ 0.89146267 -0.43752168 -0.31836259 -0.58464256  0.3666341  -1.4865503\n",
      "  0.76350731 -0.67882376  0.3074461  -0.09561896]\n",
      " base_value = 9.999999999999885\n",
      "   sum(phi) = 8.727530334734068\n",
      "       f(x) = 8.727530334714547\n"
     ]
    }
   ],
   "source": [
    "# Dummy Testing\n",
    "M = 10\n",
    "np.random.seed(1)\n",
    "x = np.random.randn(M)\n",
    "reference = np.zeros(M)\n",
    "phi = kernel_shap(f, x, reference, M)\n",
    "base_value = phi[-1]\n",
    "shap_values = phi[:-1]\n",
    "\n",
    "print(\"  reference =\", reference)\n",
    "print(\"          x =\", x)\n",
    "print(\"shap_values =\", shap_values)\n",
    "print(\" base_value =\", base_value)\n",
    "print(\"   sum(phi) =\", np.sum(phi))\n",
    "print(\"       f(x) =\", f(x))"
   ]
  },
  {
   "cell_type": "markdown",
   "metadata": {},
   "source": [
    "# Using Kernal Expaliner:\n"
   ]
  },
  {
   "cell_type": "code",
   "execution_count": 2,
   "metadata": {},
   "outputs": [
    {
     "data": {
      "text/plain": [
       "'\\nimport shap\\n\\nexplainer = shap.KernelExplainer(f, np.reshape(reference, (1, len(reference))))\\nshap_values = explainer.shap_values(x)\\nprint(\"shap_values =\", shap_values)\\nprint(\"base value =\", explainer.expected_value)\\n'"
      ]
     },
     "execution_count": 2,
     "metadata": {},
     "output_type": "execute_result"
    }
   ],
   "source": [
    "'''\n",
    "import shap\n",
    "\n",
    "explainer = shap.KernelExplainer(f, np.reshape(reference, (1, len(reference))))\n",
    "shap_values = explainer.shap_values(x)\n",
    "print(\"shap_values =\", shap_values)\n",
    "print(\"base value =\", explainer.expected_value)\n",
    "'''"
   ]
  },
  {
   "cell_type": "code",
   "execution_count": 10,
   "metadata": {},
   "outputs": [
    {
     "data": {
      "text/plain": [
       "array([ 1.62434536, -0.61175641, -0.52817175, -1.07296862,  0.86540763])"
      ]
     },
     "execution_count": 10,
     "metadata": {},
     "output_type": "execute_result"
    }
   ],
   "source": [
    "x[:5]"
   ]
  },
  {
   "cell_type": "code",
   "execution_count": null,
   "metadata": {},
   "outputs": [],
   "source": []
  }
 ],
 "metadata": {
  "kernelspec": {
   "display_name": "Python [conda env:anaconda3]",
   "language": "python",
   "name": "conda-env-anaconda3-py"
  },
  "language_info": {
   "codemirror_mode": {
    "name": "ipython",
    "version": 3
   },
   "file_extension": ".py",
   "mimetype": "text/x-python",
   "name": "python",
   "nbconvert_exporter": "python",
   "pygments_lexer": "ipython3",
   "version": "3.6.3"
  }
 },
 "nbformat": 4,
 "nbformat_minor": 2
}
